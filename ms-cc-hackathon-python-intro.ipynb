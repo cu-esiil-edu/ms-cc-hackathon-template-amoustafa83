{
 "cells": [
  {
   "cell_type": "markdown",
   "id": "5120feb1",
   "metadata": {},
   "source": [
    "# 🌱 Intro to Python: Carbon Footprint Edition\n",
    "\n",
    "Welcome to your first Python lesson! In this notebook, we’ll explore Python basics while thinking about real-world data related to **carbon footprints** 🌍💨.\"\n",
    "\n",
    "***"
   ]
  },
  {
   "cell_type": "markdown",
   "id": "1e5d0c6f",
   "metadata": {},
   "source": [
    "## 🔤 Python Variables\n",
    "Variables store information. Let’s store the average carbon footprint (in metric tons of CO₂ per year) for individuals in different countries."
   ]
  },
  {
   "cell_type": "code",
   "execution_count": null,
   "id": "4ddc5b6e",
   "metadata": {},
   "outputs": [],
   "source": [
    "# Define variable names for average individual CO2 emissions (in tons)\n",
    "\n",
    "\n",
    "# Use print() statements to report values\n",
    "\n"
   ]
  },
  {
   "cell_type": "markdown",
   "id": "7a05f34d",
   "metadata": {},
   "source": [
    "## ➕ Python Operators\n",
    "We can do math with Python. Let’s calculate the difference between footprints."
   ]
  },
  {
   "cell_type": "code",
   "execution_count": null,
   "id": "6afc7a13",
   "metadata": {},
   "outputs": [
    {
     "ename": "SyntaxError",
     "evalue": "invalid syntax (4000718737.py, line 2)",
     "output_type": "error",
     "traceback": [
      "\u001b[0;36m  Cell \u001b[0;32mIn[3], line 2\u001b[0;36m\u001b[0m\n\u001b[0;31m    2 USA_footprint=16.5\u001b[0m\n\u001b[0m      ^\u001b[0m\n\u001b[0;31mSyntaxError\u001b[0m\u001b[0;31m:\u001b[0m invalid syntax\n"
     ]
    }
   ],
   "source": [
    "1 #Define the variables names for avarge indvidual CO2 emmisions (in tons)\n",
    "2 USA_footprint=16.5\n",
    "3 USA_footprint\n",
    "4\n",
    "5 india_footprint=1.9\n",
    "6 nigeria_footprint=0.7\n",
    "7\n",
    "8 #USA_footprint() statments to report values\n",
    "9"
   ]
  },
  {
   "cell_type": "markdown",
   "id": "4ca45818",
   "metadata": {},
   "source": [
    "You can use:\n",
    "\n",
    "+ `+` for addition\n",
    "\n",
    "+ `-` for subtraction\n",
    "\n",
    "+ `*` for multiplication\n",
    "\n",
    "+ `/` for division\n",
    "\n",
    "Let’s calculate how much CO₂ 5 people in the U.S. emit:"
   ]
  },
  {
   "cell_type": "code",
   "execution_count": 5,
   "id": "a1a239f7",
   "metadata": {},
   "outputs": [
    {
     "ename": "SyntaxError",
     "evalue": "invalid syntax (97122206.py, line 2)",
     "output_type": "error",
     "traceback": [
      "\u001b[0;36m  Cell \u001b[0;32mIn[5], line 2\u001b[0;36m\u001b[0m\n\u001b[0;31m    2 usa_footprint - india_footprint\u001b[0m\n\u001b[0m      ^\u001b[0m\n\u001b[0;31mSyntaxError\u001b[0m\u001b[0;31m:\u001b[0m invalid syntax\n"
     ]
    }
   ],
   "source": [
    "1 # Take differences between\n",
    "2 usa_footprint - india_footprint"
   ]
  },
  {
   "cell_type": "markdown",
   "id": "3a38ba31",
   "metadata": {},
   "source": [
    "## 📋 Lists in Python\n",
    "A list lets us store multiple values in one place."
   ]
  },
  {
   "cell_type": "code",
   "execution_count": null,
   "id": "cf3b2552",
   "metadata": {},
   "outputs": [],
   "source": []
  },
  {
   "cell_type": "markdown",
   "id": "d399b09e",
   "metadata": {},
   "source": [
    "We can get specific values from a list using indexing:"
   ]
  },
  {
   "cell_type": "code",
   "execution_count": null,
   "id": "466dfe58",
   "metadata": {},
   "outputs": [],
   "source": []
  },
  {
   "cell_type": "markdown",
   "id": "d33368e7",
   "metadata": {},
   "source": [
    "## 🔁 Loops\n",
    "Let’s loop through our list and print out each country’s footprint."
   ]
  },
  {
   "cell_type": "code",
   "execution_count": null,
   "id": "42e0182a",
   "metadata": {},
   "outputs": [],
   "source": []
  },
  {
   "cell_type": "code",
   "execution_count": null,
   "id": "65d49068",
   "metadata": {},
   "outputs": [],
   "source": []
  },
  {
   "cell_type": "markdown",
   "id": "34fa31ef",
   "metadata": {},
   "source": [
    "# 🧮 Functions\n",
    "Functions let us reuse code. Let’s write one that estimates a total footprint based on per-person values."
   ]
  },
  {
   "cell_type": "code",
   "execution_count": null,
   "id": "8fdd196f",
   "metadata": {},
   "outputs": [],
   "source": []
  },
  {
   "cell_type": "markdown",
   "id": "90cf2aea",
   "metadata": {},
   "source": [
    "# ✅ Challenge: Try it yourself!\n",
    "1.) Add another country to the list with its carbon footprint.\n",
    "\n",
    "2.) Write a function that tells you whether a country's footprint is low, medium, or high.\n",
    "\n",
    "3.) Use a loop to print each country’s status using your new function"
   ]
  }
 ],
 "metadata": {
  "kernelspec": {
   "display_name": ".venv",
   "language": "python",
   "name": "python3"
  },
  "language_info": {
   "codemirror_mode": {
    "name": "ipython",
    "version": 3
   },
   "file_extension": ".py",
   "mimetype": "text/x-python",
   "name": "python",
   "nbconvert_exporter": "python",
   "pygments_lexer": "ipython3",
   "version": "3.10.12"
  }
 },
 "nbformat": 4,
 "nbformat_minor": 5
}
